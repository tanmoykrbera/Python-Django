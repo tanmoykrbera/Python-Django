{
 "cells": [
  {
   "cell_type": "markdown",
   "id": "ee2f3797",
   "metadata": {},
   "source": [
    "## Q1.  From this given string: s = \"Hey i am from New Delhi\". Find out: length of string, convert this to list using split operation."
   ]
  },
  {
   "cell_type": "code",
   "execution_count": 13,
   "id": "92ae3421",
   "metadata": {},
   "outputs": [
    {
     "name": "stdout",
     "output_type": "stream",
     "text": [
      "Length of string: 23\n",
      "['Hey', 'i', 'am', 'from', 'New', 'Delhi']\n"
     ]
    }
   ],
   "source": [
    "s = \"Hey i am from New Delhi\"\n",
    "\n",
    "print(\"Length of string:\", len(s))\n",
    "print(s.split())"
   ]
  },
  {
   "cell_type": "markdown",
   "id": "7f71a666",
   "metadata": {},
   "source": [
    "## Q2.  Given string s = \"name is rahul\". Write code to give following o/p.\n",
    "- \"Name is rahul\"\n",
    "-  \"Rame Is Rahul\"\n",
    "-  \"NAME IS RAHUL\""
   ]
  },
  {
   "cell_type": "code",
   "execution_count": 15,
   "id": "be0937d3",
   "metadata": {},
   "outputs": [
    {
     "name": "stdout",
     "output_type": "stream",
     "text": [
      "Name is rahul\n",
      "Rame Is Rahul\n",
      "NAME IS RAHUL\n"
     ]
    }
   ],
   "source": [
    "s=\"name is rahul\"\n",
    "print(s.capitalize())\n",
    "print(s.replace('n','R').title())\n",
    "print(s.upper())"
   ]
  },
  {
   "cell_type": "markdown",
   "id": "bb486f19",
   "metadata": {},
   "source": [
    "## Q3. Using length and breadth as input find out area and perimeter of a given rectangle."
   ]
  },
  {
   "cell_type": "code",
   "execution_count": 17,
   "id": "9a427a5f",
   "metadata": {},
   "outputs": [
    {
     "name": "stdout",
     "output_type": "stream",
     "text": [
      "Enter the length of the rectangle: 12\n",
      "Enter the breadth of the rectangle: 5\n",
      "Perimeter:  34.0\n",
      "Area:  60.0\n"
     ]
    }
   ],
   "source": [
    "l=float(input(\"Enter the length of the rectangle: \"))\n",
    "b=float(input(\"Enter the breadth of the rectangle: \"))\n",
    "p=2*(l+b)\n",
    "a=l*b\n",
    "print(\"Perimeter: \",p)\n",
    "print(\"Area: \",a)"
   ]
  },
  {
   "cell_type": "markdown",
   "id": "b5778f56",
   "metadata": {},
   "source": [
    "## Q4. Using diameter as input find out circumference and area of a circle.\n"
   ]
  },
  {
   "cell_type": "code",
   "execution_count": 19,
   "id": "10a14a10",
   "metadata": {},
   "outputs": [
    {
     "name": "stdout",
     "output_type": "stream",
     "text": [
      "Enter the diameter of the circle: 10\n",
      "Circumference of the circle:  31.400000000000002\n",
      "Area of the circle:  78.5\n"
     ]
    }
   ],
   "source": [
    "d=float(input(\"Enter the diameter of the circle: \"))\n",
    "r=d/2\n",
    "c=2*3.14*r\n",
    "a=3.14*r*r\n",
    "print(\"Circumference of the circle: \",c)\n",
    "print(\"Area of the circle: \",a)"
   ]
  },
  {
   "cell_type": "markdown",
   "id": "8764f721",
   "metadata": {},
   "source": [
    "## Q5. Write a program to compute roots of a quadratic equation when coefficients a, b and c are known(entered by user).\n"
   ]
  },
  {
   "cell_type": "code",
   "execution_count": 21,
   "id": "15cfcb04",
   "metadata": {},
   "outputs": [
    {
     "name": "stdout",
     "output_type": "stream",
     "text": [
      "Enter the coefficients for the quadratic equation 'ax^2 + bx + c = 0:'  4 5 3\n",
      "The roots are  (-10+9.591663046625438j) and (-10-9.591663046625438j)\n"
     ]
    }
   ],
   "source": [
    "import cmath\n",
    "a, b, c = [float(x) for x in input(\"Enter the coefficients for the quadratic equation 'ax^2 + bx + c = 0:'  \").split()]\n",
    "d = b**2 - 4*a*c\n",
    "print(\"The roots are \",(-b+cmath.sqrt(d))/2*a, \"and\" ,(-b-cmath.sqrt(d))/2*a)"
   ]
  },
  {
   "cell_type": "markdown",
   "id": "16ee2b62",
   "metadata": {},
   "source": [
    "## Q6. Find volume of a sphere using radius as input."
   ]
  },
  {
   "cell_type": "code",
   "execution_count": 25,
   "id": "525dee5a",
   "metadata": {},
   "outputs": [
    {
     "name": "stdout",
     "output_type": "stream",
     "text": [
      "Enter radius: 4.5\n",
      "Volume of the sphere: 381.51\n"
     ]
    }
   ],
   "source": [
    "PI = 3.14\n",
    "radius = float(input(\"Enter radius: \"))\n",
    "volume = (4/3) * PI * radius ** 3\n",
    "print(\"Volume of the sphere:\", volume)"
   ]
  },
  {
   "cell_type": "markdown",
   "id": "f0ba3896",
   "metadata": {},
   "source": [
    "## Q7. Count the  number of digits in a number. Example: 3454 has 4 digits."
   ]
  },
  {
   "cell_type": "code",
   "execution_count": 28,
   "id": "ecccb687",
   "metadata": {},
   "outputs": [
    {
     "name": "stdout",
     "output_type": "stream",
     "text": [
      "Enter the number: 3454\n",
      "No. of digits: 4\n"
     ]
    }
   ],
   "source": [
    "num = int(input(\"Enter the number: \"))\n",
    "count = 0\n",
    "while (num > 1):\n",
    "    num = num // 10\n",
    "    count += 1\n",
    "print(\"No. of digits:\", count)"
   ]
  },
  {
   "cell_type": "markdown",
   "id": "2771fb4c",
   "metadata": {},
   "source": [
    "## Q8. Write a program that accepts a string and gives output string with all capital letters."
   ]
  },
  {
   "cell_type": "code",
   "execution_count": 30,
   "id": "8224dee0",
   "metadata": {},
   "outputs": [
    {
     "name": "stdout",
     "output_type": "stream",
     "text": [
      "Enter a string: hello world\n",
      "HELLO WORLD\n"
     ]
    }
   ],
   "source": [
    "str=input(\"Enter a string: \")\n",
    "print(str.upper())"
   ]
  },
  {
   "cell_type": "markdown",
   "id": "bfd169b4",
   "metadata": {},
   "source": [
    "## Q9. Write a program to that accepts a string s, an index number n and a character ‘c’. And outputs the string replaced with the character at the index number n. Example- ‘hello’ , 0 , ‘j’ ==> ‘jello’.\n",
    "(Hint2: You can try it by join function too by typecasting it to list)"
   ]
  },
  {
   "cell_type": "code",
   "execution_count": 34,
   "id": "d4b25f26",
   "metadata": {},
   "outputs": [
    {
     "name": "stdout",
     "output_type": "stream",
     "text": [
      "Enter a string: hello\n",
      "Enter index number: 0\n",
      "Enter a character: j\n",
      "jello\n"
     ]
    }
   ],
   "source": [
    "s=input(\"Enter a string: \")\n",
    "n=int(input(\"Enter index number: \"))\n",
    "c=input(\"Enter a character: \")\n",
    "if n<len(s):\n",
    "    s=list(s)\n",
    "    s[n]=c\n",
    "    print(\"\".join(s))\n",
    "else:\n",
    "    print(\"Not a valid entry\")"
   ]
  },
  {
   "cell_type": "markdown",
   "id": "6c743baf",
   "metadata": {},
   "source": [
    "## Q10.Reverse a string. Example: 'Hey there' = 'ereht yeH'"
   ]
  },
  {
   "cell_type": "code",
   "execution_count": 37,
   "id": "55052f05",
   "metadata": {},
   "outputs": [
    {
     "name": "stdout",
     "output_type": "stream",
     "text": [
      "Enter a string: Hey there\n",
      "Reversed String:  ereht yeH\n"
     ]
    }
   ],
   "source": [
    "s = input(\"Enter a string: \")\n",
    "print(\"Reversed String: \",s[::-1])"
   ]
  },
  {
   "cell_type": "code",
   "execution_count": null,
   "id": "bbbf7327",
   "metadata": {},
   "outputs": [],
   "source": []
  }
 ],
 "metadata": {
  "kernelspec": {
   "display_name": "Python 3",
   "language": "python",
   "name": "python3"
  },
  "language_info": {
   "codemirror_mode": {
    "name": "ipython",
    "version": 3
   },
   "file_extension": ".py",
   "mimetype": "text/x-python",
   "name": "python",
   "nbconvert_exporter": "python",
   "pygments_lexer": "ipython3",
   "version": "3.8.8"
  }
 },
 "nbformat": 4,
 "nbformat_minor": 5
}

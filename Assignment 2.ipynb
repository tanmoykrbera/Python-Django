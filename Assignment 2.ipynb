{
 "cells": [
  {
   "cell_type": "markdown",
   "id": "8fecd5ee",
   "metadata": {},
   "source": [
    "## Q1. Write a program to print all the natural numbers from 1 to n (user input). Then print the same in reverse order."
   ]
  },
  {
   "cell_type": "code",
   "execution_count": 10,
   "id": "72455404",
   "metadata": {},
   "outputs": [
    {
     "name": "stdout",
     "output_type": "stream",
     "text": [
      "Enter the value of n: 10\n",
      "1 2 3 4 5 6 7 8 9 10 \n",
      "The same in reverse order: \n",
      "10 9 8 7 6 5 4 3 2 1 "
     ]
    }
   ],
   "source": [
    "n = int(input(\"Enter the value of n: \"))\n",
    "for i in range(n):\n",
    "    print(i+1, end = \" \")\n",
    "print()\n",
    "print(\"The same in reverse order: \")\n",
    "for i in range(n):\n",
    "    print(n-i, end = \" \")\n"
   ]
  },
  {
   "cell_type": "markdown",
   "id": "ba550817",
   "metadata": {},
   "source": [
    "## Q2. Print all odd numbers and even numbers between 1 to 100."
   ]
  },
  {
   "cell_type": "code",
   "execution_count": 16,
   "id": "cc27816f",
   "metadata": {},
   "outputs": [
    {
     "name": "stdout",
     "output_type": "stream",
     "text": [
      "All Even Numbers: 2 4 6 8 10 12 14 16 18 20 22 24 26 28 30 32 34 36 38 40 42 44 46 48 50 52 54 56 58 60 62 64 66 68 70 72 74 76 78 80 82 84 86 88 90 92 94 96 98 100 \n",
      "\n",
      "All Odd Numbers: 1 3 5 7 9 11 13 15 17 19 21 23 25 27 29 31 33 35 37 39 41 43 45 47 49 51 53 55 57 59 61 63 65 67 69 71 73 75 77 79 81 83 85 87 89 91 93 95 97 99 "
     ]
    }
   ],
   "source": [
    "print(\"All Even Numbers: \", end = \"\")\n",
    "for i in range(1,101):\n",
    "    if i%2 == 0:\n",
    "        print(i, end = \" \")\n",
    "print()\n",
    "print()\n",
    "print(\"All Odd Numbers: \", end = \"\")\n",
    "for i in range(1,101):\n",
    "    if i%2 != 0:\n",
    "        print(i, end = \" \")"
   ]
  },
  {
   "cell_type": "markdown",
   "id": "63ba1a0e",
   "metadata": {},
   "source": [
    "## Q3. Write a program to check if a number is prime or not. Example: 7 ==> True, 6 ==> False"
   ]
  },
  {
   "cell_type": "code",
   "execution_count": 23,
   "id": "5dd5a91b",
   "metadata": {},
   "outputs": [
    {
     "name": "stdout",
     "output_type": "stream",
     "text": [
      "Enter Any number : 149\n",
      "Yes\n"
     ]
    }
   ],
   "source": [
    "n = int(input(\"Enter Any number : \"))\n",
    "if n>1:\n",
    "    for i in range(2,n):\n",
    "        if n%i==0:\n",
    "            print(\"False\")\n",
    "            break\n",
    "    else:\n",
    "        print(\"Yes\")\n",
    "        \n",
    "else:\n",
    "    print(\"Neither Prime nor Composite\")"
   ]
  },
  {
   "cell_type": "markdown",
   "id": "4f13785c",
   "metadata": {},
   "source": [
    "## Q4. Write a program that asks the user for a number n and prints the sum of the numbers 1 to n such that only multiples of three or five are considered in the sum, e.g. 3, 5, 6, 9, 10, 12, 15 for n=17.\n"
   ]
  },
  {
   "cell_type": "code",
   "execution_count": 29,
   "id": "676cde20",
   "metadata": {},
   "outputs": [
    {
     "name": "stdout",
     "output_type": "stream",
     "text": [
      "Enter a number: 21\n",
      "3\n",
      "5\n",
      "6\n",
      "9\n",
      "10\n",
      "12\n",
      "15\n",
      "18\n",
      "20\n",
      "21\n",
      "sum = 119\n"
     ]
    }
   ],
   "source": [
    "x = 1\n",
    "sum = 0\n",
    "\n",
    "n = int(input(\"Enter a number: \"))\n",
    "\n",
    "for i in range(x, n + 1):\n",
    "    if (i % 3 == 0) or (i % 5 == 0):\n",
    "        sum = sum + i\n",
    "        print(i)\n",
    "\n",
    "print(\"sum =\",sum) "
   ]
  },
  {
   "cell_type": "markdown",
   "id": "f3e14880",
   "metadata": {},
   "source": [
    "## Q5. Write a program that asks the user for a number n and gives them the possibility to choose between computing the sum and computing the product of 1,…,n."
   ]
  },
  {
   "cell_type": "code",
   "execution_count": 118,
   "id": "a0b0e1df",
   "metadata": {},
   "outputs": [
    {
     "name": "stdout",
     "output_type": "stream",
     "text": [
      "Enter a number: 5\n",
      "Enter 0 for sum and 1 for product: 1\n",
      "The product is = 120\n"
     ]
    }
   ],
   "source": [
    "num = int(input(\"Enter a number: \"))\n",
    "\n",
    "choice = int(input(\"Enter 0 for sum and 1 for product: \"))\n",
    "\n",
    "sum = 0\n",
    "product = 1\n",
    "\n",
    "for i in range(1, num + 1):\n",
    "    if choice == 0:\n",
    "        sum = sum + i\n",
    "        \n",
    "    elif choice == 1:\n",
    "        product = product * i\n",
    "        \n",
    "    else:\n",
    "        print(\"Invalid selection!\")\n",
    "        break\n",
    "\n",
    "if choice == 0:\n",
    "    print(\"The sum is =\",sum)\n",
    "\n",
    "if choice == 1:\n",
    "    print(\"The product is =\", product)"
   ]
  },
  {
   "cell_type": "markdown",
   "id": "892884a5",
   "metadata": {},
   "source": [
    "## Q6. Find the sum of all the multiples of 3 or 5 below 1000."
   ]
  },
  {
   "cell_type": "code",
   "execution_count": 123,
   "id": "baac7d23",
   "metadata": {},
   "outputs": [
    {
     "name": "stdout",
     "output_type": "stream",
     "text": [
      "sum = 233168\n"
     ]
    }
   ],
   "source": [
    "sum = 0\n",
    "\n",
    "for i in range(1, 1000):\n",
    "    if (i % 3 == 0) or (i % 5 == 0):\n",
    "        sum = sum + i\n",
    "\n",
    "print(\"sum =\",sum)"
   ]
  },
  {
   "cell_type": "markdown",
   "id": "785ceaa7",
   "metadata": {},
   "source": [
    "## Q7. Write a program which will find all such numbers which are divisible by 7 but are not a multiple of 5, between 2000 and 3200 (both included)."
   ]
  },
  {
   "cell_type": "code",
   "execution_count": 126,
   "id": "4b5db6fa",
   "metadata": {},
   "outputs": [
    {
     "name": "stdout",
     "output_type": "stream",
     "text": [
      "2002 2009 2016 2023 2037 2044 2051 2058 2072 2079 2086 2093 2107 2114 2121 2128 2142 2149 2156 2163 2177 2184 2191 2198 2212 2219 2226 2233 2247 2254 2261 2268 2282 2289 2296 2303 2317 2324 2331 2338 2352 2359 2366 2373 2387 2394 2401 2408 2422 2429 2436 2443 2457 2464 2471 2478 2492 2499 2506 2513 2527 2534 2541 2548 2562 2569 2576 2583 2597 2604 2611 2618 2632 2639 2646 2653 2667 2674 2681 2688 2702 2709 2716 2723 2737 2744 2751 2758 2772 2779 2786 2793 2807 2814 2821 2828 2842 2849 2856 2863 2877 2884 2891 2898 2912 2919 2926 2933 2947 2954 2961 2968 2982 2989 2996 3003 3017 3024 3031 3038 3052 3059 3066 3073 3087 3094 3101 3108 3122 3129 3136 3143 3157 3164 3171 3178 3192 3199 "
     ]
    }
   ],
   "source": [
    "for i in range (2000, 3201):\n",
    "    if (i % 7 == 0 and i % 5 != 0):\n",
    "        print(i, end = \" \")"
   ]
  },
  {
   "cell_type": "markdown",
   "id": "aadb62a0",
   "metadata": {},
   "source": [
    "## Q8. Find the difference between the sum of the squares of the first one hundred natural numbers and the square of the sum."
   ]
  },
  {
   "cell_type": "code",
   "execution_count": 133,
   "id": "e6093d6f",
   "metadata": {},
   "outputs": [
    {
     "name": "stdout",
     "output_type": "stream",
     "text": [
      "Square of the sum - Sum of the squares  =  25164150\n"
     ]
    }
   ],
   "source": [
    "sumOfSquare=0\n",
    "sum=0\n",
    "for i in range(1,101):\n",
    "    sumOfSquare=sumOfSquare+(i**2)\n",
    "    sum=sum+i\n",
    "diff=(sum**2)-sumOfSquare  \n",
    "print(\"Square of the sum - Sum of the squares  = \",diff)"
   ]
  },
  {
   "cell_type": "markdown",
   "id": "1e54ecb0",
   "metadata": {},
   "source": [
    "## Q9. Write a program which can compute the factorial of a given number."
   ]
  },
  {
   "cell_type": "code",
   "execution_count": 136,
   "id": "33214601",
   "metadata": {},
   "outputs": [
    {
     "name": "stdout",
     "output_type": "stream",
     "text": [
      "Enter a number= 6\n",
      "720\n"
     ]
    }
   ],
   "source": [
    "def factorial(n):\n",
    "    if n == 0:\n",
    "        return 1\n",
    "    else:\n",
    "        return n * factorial(n-1)\n",
    "        \n",
    "n = int(input(\"Enter a number= \"))\n",
    "\n",
    "print(factorial(n))"
   ]
  },
  {
   "cell_type": "markdown",
   "id": "a80096dc",
   "metadata": {},
   "source": [
    "### Q10. Pattern:\n",
    "\n",
    "->\n",
    "\n",
    "\n",
    "1 \n",
    "\n",
    "2 2 \n",
    "\n",
    "3 3 3 \n",
    "\n",
    "4 4 4 4 \n",
    "\n",
    "5 5 5 5 5 \n",
    "\n",
    "->\n",
    "5 5 5 5 5 \n",
    "\n",
    "5 4 4 4 5 \n",
    "\n",
    "5 4 3 4 5 \n",
    "\n",
    "5 4 4 4 5 \n",
    "\n",
    "5 5 5 5 5 \n",
    "\n",
    "->\n",
    "*  \n",
    "* *  \n",
    "* * *  \n",
    "* * * *  \n",
    "* * * * *  \n",
    " \n",
    "->\n",
    "****\n",
    "***\n",
    "**\n",
    "*\n",
    "\n",
    "->\n",
    "#####\n",
    "#####\n",
    "#####\n",
    "#####\n",
    "#####"
   ]
  },
  {
   "cell_type": "code",
   "execution_count": 151,
   "id": "18a8b885",
   "metadata": {},
   "outputs": [
    {
     "name": "stdout",
     "output_type": "stream",
     "text": [
      "->\n",
      "\n",
      "\n",
      "1 \n",
      "\n",
      "2 2 \n",
      "\n",
      "3 3 3 \n",
      "\n",
      "4 4 4 4 \n",
      "\n",
      "5 5 5 5 5 \n",
      "\n",
      "->\n",
      "5 5 5 5 5 \n",
      "5 4 4 4 5 \n",
      "5 4 3 4 5 \n",
      "5 4 4 4 5 \n",
      "5 5 5 5 5 \n",
      "\n",
      "->\n",
      "* \n",
      "* * \n",
      "* * * \n",
      "* * * * \n",
      "* * * * * \n",
      "\n",
      "->\n",
      "****\n",
      "***\n",
      "**\n",
      "*\n",
      "\n",
      "->\n",
      "#####\n",
      "#####\n",
      "#####\n",
      "#####\n",
      "#####\n"
     ]
    }
   ],
   "source": [
    "print(\"->\")\n",
    "\n",
    "for num in range(6):\n",
    "\n",
    "    for i in range(num):\n",
    "\n",
    "        print(num, end = \" \")\n",
    "\n",
    "    print(\"\\n\")\n",
    "\n",
    "print(\"->\")\n",
    "\n",
    "n = 5\n",
    "for i in range (n):\n",
    "    for j in range (n):\n",
    "        print(max(i+1,j+1, n-i, n-j), end = \" \")\n",
    "    print()\n",
    "print()\n",
    "\n",
    "print(\"->\")\n",
    "\n",
    "n = 5\n",
    "for i in range (n):\n",
    "    for j in range (i+1):\n",
    "        print(\"*\", end = \" \")\n",
    "    print()\n",
    "print()\n",
    "\n",
    "print(\"->\")\n",
    "\n",
    "n = 4\n",
    "for i in range(n):\n",
    "    for j in range (n, i, -1):\n",
    "        print(\"*\", end = \"\")\n",
    "    print()\n",
    "print()  \n",
    "\n",
    "print(\"->\")\n",
    "\n",
    "n = 5\n",
    "for i in range (n):\n",
    "    for j in range (n):\n",
    "        print(\"#\", end = \"\")\n",
    "    print()"
   ]
  },
  {
   "cell_type": "markdown",
   "id": "b9b43278",
   "metadata": {},
   "source": [
    "## Q11. Write a program that computes the value of a+aa+aaa+aaaa with a given digit as the value of a. Suppose the following input is supplied to the program: 9, Then, the output should be: 9 + 99 + 999 + 9999 =  11106.\n"
   ]
  },
  {
   "cell_type": "code",
   "execution_count": 1,
   "id": "72741494",
   "metadata": {},
   "outputs": [
    {
     "name": "stdout",
     "output_type": "stream",
     "text": [
      "Enter any Number : 9\n",
      "The sum is :  9 + 99 + 999 + 9999 =\n",
      "11106\n"
     ]
    }
   ],
   "source": [
    "n=int(input(\"Enter any Number : \"))\n",
    "\n",
    "n1=str(n)*1\n",
    "n2=str(n)*2\n",
    "n3=str(n)*3\n",
    "n4=str(n)*4\n",
    "print(\"The sum is : \",n1 ,\"+\",n2,\"+\",n3,\"+\",n4,\"=\")\n",
    "mysum= int(n1)+int(n2)+int(n3)+int(n4)\n",
    "print(mysum)"
   ]
  },
  {
   "cell_type": "markdown",
   "id": "a8cdff12",
   "metadata": {},
   "source": [
    "## Q12. Find the length of a string using loops (not len()).\n"
   ]
  },
  {
   "cell_type": "code",
   "execution_count": 4,
   "id": "da670852",
   "metadata": {},
   "outputs": [
    {
     "name": "stdout",
     "output_type": "stream",
     "text": [
      "Enter the string: Cipherschools Summer Training\n",
      "Length of the given string:  29\n"
     ]
    }
   ],
   "source": [
    "string=input(\"Enter the string: \")\n",
    "count=0\n",
    "for i in string:\n",
    "    count=count+1\n",
    "print(\"Length of the given string: \",count)"
   ]
  },
  {
   "cell_type": "markdown",
   "id": "b1bf0acb",
   "metadata": {},
   "source": [
    "## Q13. Write a program that accepts a sentence (string) and calculate the number of letters and digits. Example: ‘this is a test sentence number 389’ ==> letters = 25 and digits = 3.\n"
   ]
  },
  {
   "cell_type": "code",
   "execution_count": 37,
   "id": "10684314",
   "metadata": {
    "scrolled": true
   },
   "outputs": [
    {
     "name": "stdout",
     "output_type": "stream",
     "text": [
      "Enter the required string: this is a test sentence number 389\n",
      "Letters =  25 and Digits =  3\n"
     ]
    }
   ],
   "source": [
    "string = input(\"Enter the required string: \")\n",
    "\n",
    "digits = 0\n",
    "\n",
    "letters = 0\n",
    "for s in string:\n",
    "    if s.isdigit():\n",
    "        digits = digits + 1\n",
    "\n",
    "    elif s.isalpha():\n",
    "        letters = letters + 1\n",
    "\n",
    "    else:\n",
    "        pass\n",
    "\n",
    "print(\"Letters = \", letters, \"and\", \"Digits = \", digits)"
   ]
  },
  {
   "cell_type": "markdown",
   "id": "ae4aa9c2",
   "metadata": {},
   "source": [
    "## Q14.  Write a program that accepts a string and outputs the string with all capital letters. Example: ‘hello’ ==> ‘HELLO’. (using loop)"
   ]
  },
  {
   "cell_type": "code",
   "execution_count": 44,
   "id": "8674c950",
   "metadata": {},
   "outputs": [
    {
     "name": "stdout",
     "output_type": "stream",
     "text": [
      "Enter a string: hello\n",
      "HELLO\n"
     ]
    }
   ],
   "source": [
    "string = str(input(\"Enter a string: \"))\n",
    "\n",
    "stringC = str()\n",
    "\n",
    "for i in string:\n",
    "  stringC+=i.upper()\n",
    "print(stringC)"
   ]
  },
  {
   "cell_type": "markdown",
   "id": "d0616fa4",
   "metadata": {},
   "source": [
    "## Q15. Write a program that accepts a sentence and calculate the number of upper case letters and lower case letters"
   ]
  },
  {
   "cell_type": "code",
   "execution_count": 46,
   "id": "9d0d1b62",
   "metadata": {},
   "outputs": [
    {
     "name": "stdout",
     "output_type": "stream",
     "text": [
      "Enter the sentence : ChamaLeon woRld\n",
      "No. of Upper Case letters:   3\n",
      "No. of Lower Case letters:   11\n"
     ]
    }
   ],
   "source": [
    "n=input(\"Enter the sentence : \")\n",
    "u=l=0\n",
    "for i in n:\n",
    "    if i.isupper():\n",
    "        u=u+1\n",
    "    elif i.islower():\n",
    "        l=l+1\n",
    "    else:\n",
    "        pass\n",
    "print(\"No. of Upper Case letters:  \",u)\n",
    "print(\"No. of Lower Case letters:  \",l)"
   ]
  },
  {
   "cell_type": "markdown",
   "id": "795e772b",
   "metadata": {},
   "source": [
    "## Q16. Write  a program that counts the occurrence of a character in a string. Example: ‘This is a test string.’ count of i = 3."
   ]
  },
  {
   "cell_type": "code",
   "execution_count": 56,
   "id": "5830e7fb",
   "metadata": {},
   "outputs": [
    {
     "name": "stdout",
     "output_type": "stream",
     "text": [
      "Enter a string: This is a test string.\n",
      "Enter the character which is to be counted: i\n",
      "Number of occurrences of  i are:  3\n"
     ]
    }
   ],
   "source": [
    "string=input(\"Enter a string: \")\n",
    "char=input(\"Enter the character which is to be counted: \")\n",
    "\n",
    "count=0\n",
    "\n",
    "for i in string:\n",
    "    if(i==char):\n",
    "        count+=1\n",
    "    \n",
    "print(\"Number of occurrences of \",char,\"are: \",count)"
   ]
  },
  {
   "cell_type": "markdown",
   "id": "4f1a95d4",
   "metadata": {},
   "source": [
    "## Q17. Write a program to find if a given string is a palindrome or not."
   ]
  },
  {
   "cell_type": "code",
   "execution_count": 59,
   "id": "1a92d1e7",
   "metadata": {},
   "outputs": [
    {
     "name": "stdout",
     "output_type": "stream",
     "text": [
      "Enter the given string: mataatam\n",
      "Given string is Palindrome\n"
     ]
    }
   ],
   "source": [
    "str1=input(\"Enter the given string: \")\n",
    "str2 = str1[::-1]\n",
    "if str1==str2:\n",
    "    print(\"Given string is Palindrome\")\n",
    "else:\n",
    "    print(\"Given string is not Palindrome\")"
   ]
  },
  {
   "cell_type": "markdown",
   "id": "5df1a025",
   "metadata": {},
   "source": [
    "## Q18. Write a program which accepts two strings s1 and s2 and checks if s2 is a substring of s1.\n"
   ]
  },
  {
   "cell_type": "code",
   "execution_count": 63,
   "id": "9c3eeff9",
   "metadata": {},
   "outputs": [
    {
     "name": "stdout",
     "output_type": "stream",
     "text": [
      "Enter String 1 : Django\n",
      "Enter String 2 : jan\n",
      "Yes string 2 is a substring of string 1\n"
     ]
    }
   ],
   "source": [
    "s1=input(\"Enter String 1 : \")\n",
    "s2=input(\"Enter String 2 : \")\n",
    "\n",
    "if (s1.find(s2) == -1):\n",
    "    print(\"string 2 is not a substring of string 1\")\n",
    "else:\n",
    "    print(\"Yes string 2 is a substring of string 1\")"
   ]
  },
  {
   "cell_type": "markdown",
   "id": "cc1b622e",
   "metadata": {},
   "source": [
    "## Q19. Make a password validator with the following checks. A website requires the users to input username and password to register. Write a program to check the validity of password input by users.\n",
    "Following are the criteria for checking the password:\n",
    "1. At least  1 letter between [a-z]     \n",
    "2. At least 1 number between [0-9]     \n",
    "3. At least 1 letter between [@$#%&]\n"
   ]
  },
  {
   "cell_type": "code",
   "execution_count": 65,
   "id": "ba64f8df",
   "metadata": {},
   "outputs": [
    {
     "name": "stdout",
     "output_type": "stream",
     "text": [
      " PASSWORD VALIDATOR\n",
      "Make sure to remember the following while creating the password:\n",
      "At least 1 letter between [a-z]\n",
      "At least 1 number between [0-9]\n",
      "At least 1 letter between [@$#%&]\n",
      "Enter username: tanmoy123\n",
      "Enter password: tan@03\n",
      "Password validated\n"
     ]
    }
   ],
   "source": [
    "print(\" PASSWORD VALIDATOR\")\n",
    "print(\"Make sure to remember the following while creating the password:\")\n",
    "print(\"At least 1 letter between [a-z]\")\n",
    "print(\"At least 1 number between [0-9]\")\n",
    "print(\"At least 1 letter between [@$#%&]\")\n",
    "\n",
    "username=input(\"Enter username: \")\n",
    "password=input(\"Enter password: \")\n",
    "letter=0\n",
    "number=0\n",
    "spsym=\"@$#%&\"\n",
    "sptest=0\n",
    "\n",
    "for i in password:\n",
    "    if(i.isalpha()):\n",
    "        letter+=1\n",
    "    if(i.isdigit()):\n",
    "        number+=1\n",
    "    if(i in spsym):\n",
    "        sptest+=1\n",
    "if(letter>=1 and number>=1 and sptest>=1):\n",
    "    print(\"Password validated\")\n",
    "else:\n",
    "    print(\"Password does not meet the required criteria. Plz try Again!\")"
   ]
  },
  {
   "cell_type": "markdown",
   "id": "b3725777",
   "metadata": {},
   "source": [
    "## Q20. s = \"Hello how are you all\". For this given string write a code such that it prints the vowels present in the string s if any. ex: \"i\", \"a\" etc"
   ]
  },
  {
   "cell_type": "code",
   "execution_count": 117,
   "id": "65d1f691",
   "metadata": {},
   "outputs": [
    {
     "name": "stdout",
     "output_type": "stream",
     "text": [
      "Vowels present in the string are:   eoau\n"
     ]
    }
   ],
   "source": [
    "def findVowels(s):\n",
    "    str=\" \"\n",
    "    for i in s:\n",
    "        if i in \"aeiouAEIOU\":\n",
    "            if i not in str:\n",
    "                str+=i\n",
    "        else:\n",
    "            pass\n",
    "    print(\"Vowels present in the string are: \",str)\n",
    "\n",
    "findVowels(\"Hello how are you all\")"
   ]
  },
  {
   "cell_type": "code",
   "execution_count": null,
   "id": "3326ac8b",
   "metadata": {},
   "outputs": [],
   "source": []
  }
 ],
 "metadata": {
  "kernelspec": {
   "display_name": "Python 3",
   "language": "python",
   "name": "python3"
  },
  "language_info": {
   "codemirror_mode": {
    "name": "ipython",
    "version": 3
   },
   "file_extension": ".py",
   "mimetype": "text/x-python",
   "name": "python",
   "nbconvert_exporter": "python",
   "pygments_lexer": "ipython3",
   "version": "3.8.8"
  }
 },
 "nbformat": 4,
 "nbformat_minor": 5
}
